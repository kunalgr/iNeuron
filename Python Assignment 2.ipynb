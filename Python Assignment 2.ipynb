{
 "cells": [
  {
   "cell_type": "markdown",
   "metadata": {},
   "source": [
    "### iNeuron - Python Assignment 2\n",
    "Note: Answers are written in Python3.6"
   ]
  },
  {
   "cell_type": "raw",
   "metadata": {},
   "source": [
    "1. Create the below pattern using nested for loop in Python.\n",
    "*\n",
    "* *\n",
    "* * *\n",
    "* * * *\n",
    "* * * * *\n",
    "* * * *\n",
    "* * *\n",
    "* *\n",
    "*"
   ]
  },
  {
   "cell_type": "code",
   "execution_count": 18,
   "metadata": {},
   "outputs": [
    {
     "name": "stdout",
     "output_type": "stream",
     "text": [
      "\r\n",
      "* \r\n",
      "* * \r\n",
      "* * * \r\n",
      "* * * * \r\n",
      "* * * * * \r\n",
      "* * * * \r\n",
      "* * * \r\n",
      "* * \r\n",
      "* \r\n"
     ]
    }
   ],
   "source": [
    "# using single loop\n",
    "def using_single_while_loop(pat_len):\n",
    "    i = 1\n",
    "    while i != 0:\n",
    "        if i < pat_len:\n",
    "            print('* ' * i)\n",
    "            i += 1\n",
    "        else:\n",
    "            print('* ' * i)\n",
    "            i -= 1\n",
    "            pat_len -= 1\n",
    "\n",
    "            \n",
    "# using nested loop\n",
    "def using_nested_for_loop(pat_len):\n",
    "    for i in range(0, pat_len, 1):\n",
    "        for j in range(0, i):\n",
    "            print(\"* \", end=\"\")\n",
    "        print(\"\\r\")\n",
    "    for i in range(pat_len, 0 , -1):\n",
    "        for j in range(0, i):\n",
    "            print(\"* \", end=\"\")\n",
    "        print(\"\\r\")\n",
    "        \n",
    "using_nested_for_loop(5)"
   ]
  },
  {
   "cell_type": "markdown",
   "metadata": {},
   "source": [
    "2. Write a Python program to reverse a word after accepting the input from the user.\n",
    "Sample Output:\n",
    "Input word: ineuron\n",
    "Output: norueni"
   ]
  },
  {
   "cell_type": "code",
   "execution_count": 23,
   "metadata": {},
   "outputs": [
    {
     "data": {
      "text/plain": [
       "'norueni'"
      ]
     },
     "execution_count": 23,
     "metadata": {},
     "output_type": "execute_result"
    }
   ],
   "source": [
    "def reverse_string_generator(string):\n",
    "    if isinstance(string, str):\n",
    "        return string[::-1]\n",
    "    else:\n",
    "        print('ERROR: Please pass a valid string')\n",
    "\n",
    "reverse_string_generator('ineuron')"
   ]
  }
 ],
 "metadata": {
  "kernelspec": {
   "display_name": "Python 3",
   "language": "python",
   "name": "python3"
  },
  "language_info": {
   "codemirror_mode": {
    "name": "ipython",
    "version": 3
   },
   "file_extension": ".py",
   "mimetype": "text/x-python",
   "name": "python",
   "nbconvert_exporter": "python",
   "pygments_lexer": "ipython3",
   "version": "3.7.6"
  }
 },
 "nbformat": 4,
 "nbformat_minor": 4
}
